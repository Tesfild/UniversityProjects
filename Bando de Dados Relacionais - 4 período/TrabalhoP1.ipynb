{
 "cells": [
  {
   "cell_type": "markdown",
   "metadata": {},
   "source": [
    "1. Crie uma tupla com os nomes de cinco cidades brasileiras. Em seguida, exiba a terceira\n",
    "cidade da tupla.\n"
   ]
  },
  {
   "cell_type": "code",
   "execution_count": 6,
   "metadata": {},
   "outputs": [
    {
     "name": "stdout",
     "output_type": "stream",
     "text": [
      "('EngPauloDeFrontin',)\n"
     ]
    }
   ],
   "source": [
    "cidadesBrasileiras = (\"Mendes\", \"Vassouras\", \"EngPauloDeFrontin\", \"Paracambi\", \"VoltaRedonda\")\n",
    "\n",
    "print(cidadesBrasileiras[2:3])"
   ]
  },
  {
   "cell_type": "markdown",
   "metadata": {},
   "source": [
    "2. Crie uma lista contendo cinco números inteiros. Depois, substitua o segundo número pelo\n",
    "valor 100 e exiba a lista atualizada.\n"
   ]
  },
  {
   "cell_type": "code",
   "execution_count": 8,
   "metadata": {},
   "outputs": [
    {
     "name": "stdout",
     "output_type": "stream",
     "text": [
      "[1, 100, 3, 4, 5]\n"
     ]
    }
   ],
   "source": [
    "numInteiros = [1, 2, 3, 4, 5]\n",
    "\n",
    "numInteiros[1] = 100\n",
    "\n",
    "print(numInteiros)"
   ]
  },
  {
   "cell_type": "markdown",
   "metadata": {},
   "source": [
    "3. Crie um dicionário onde as chaves sejam os nomes de três alunos e os valores sejam suas\n",
    "respectivas notas. Em seguida, exiba a nota do segundo aluno.\n"
   ]
  },
  {
   "cell_type": "code",
   "execution_count": 12,
   "metadata": {},
   "outputs": [
    {
     "name": "stdout",
     "output_type": "stream",
     "text": [
      "8\n"
     ]
    }
   ],
   "source": [
    "notasAlunos = {\"Aluno1\": 10, \"Aluno2\": 8, \"Aluno3\": 5}\n",
    "\n",
    "print(notasAlunos[\"Aluno2\"])\n"
   ]
  },
  {
   "cell_type": "markdown",
   "metadata": {},
   "source": [
    "4. Dada a lista numeros = [1, 2, 2, 3, 4, 4, 5, 5], crie um conjunto a partir dessa lista para\n",
    "remover os valores duplicados e exiba o resultado."
   ]
  },
  {
   "cell_type": "code",
   "execution_count": 15,
   "metadata": {},
   "outputs": [
    {
     "name": "stdout",
     "output_type": "stream",
     "text": [
      "[1, 2, 3, 4, 5]\n"
     ]
    }
   ],
   "source": [
    "listaNum = [1, 2, 2, 3, 4, 4, 5, 5]\n",
    "\n",
    "listaNum = list(set(listaNum))\n",
    "\n",
    "print(listaNum)"
   ]
  },
  {
   "cell_type": "markdown",
   "metadata": {},
   "source": [
    "5. Dada a matriz abaixo:\n",
    "matriz = [\n",
    " [1, 2, 3],\n",
    " [4, 5, 6],\n",
    " [7, 8, 9]\n",
    "]\n",
    "Exiba o elemento que está na segunda linha e terceira coluna."
   ]
  },
  {
   "cell_type": "code",
   "execution_count": 5,
   "metadata": {},
   "outputs": [
    {
     "name": "stdout",
     "output_type": "stream",
     "text": [
      "6\n"
     ]
    }
   ],
   "source": [
    "import numpy as np\n",
    "\n",
    "matrix = np.array([\n",
    "    [1, 2, 3],\n",
    "    [4, 5, 6],\n",
    "    [7, 8, 9]\n",
    "])\n",
    "\n",
    "print(matrix[1,2])\n"
   ]
  },
  {
   "cell_type": "markdown",
   "metadata": {},
   "source": [
    "6. Peça para o usuário digitar um número inteiro. Se for par, exiba \"O número é par\"; se for\n",
    "ímpar, exiba \"O número é ímpar\"."
   ]
  },
  {
   "cell_type": "code",
   "execution_count": 7,
   "metadata": {},
   "outputs": [
    {
     "name": "stdout",
     "output_type": "stream",
     "text": [
      "O número é ímpar\n"
     ]
    }
   ],
   "source": [
    "numero = int(input(\"Digite um número inteiro: \"))\n",
    "\n",
    "if numero % 2 == 0:\n",
    "    print(\"O número é par\")\n",
    "else:\n",
    "    print(\"O número é ímpar\")"
   ]
  },
  {
   "cell_type": "markdown",
   "metadata": {},
   "source": [
    "7. Dada a lista valores = [10, 20, 30, 40, 50], utilize um laço for para calcular e exibir a\n",
    "soma de todos os elementos da lista."
   ]
  },
  {
   "cell_type": "code",
   "execution_count": 8,
   "metadata": {},
   "outputs": [
    {
     "name": "stdout",
     "output_type": "stream",
     "text": [
      "150\n"
     ]
    }
   ],
   "source": [
    "valores = [10, 20, 30, 40, 50]\n",
    "\n",
    "soma = 0\n",
    "\n",
    "for numero in valores:\n",
    "    soma += numero\n",
    "\n",
    "print(soma)"
   ]
  },
  {
   "cell_type": "markdown",
   "metadata": {},
   "source": [
    "8. Crie um programa que peça ao usuário um número inteiro positivo e utilize um while para\n",
    "exibir uma contagem regressiva até 1.\n"
   ]
  },
  {
   "cell_type": "code",
   "execution_count": 11,
   "metadata": {},
   "outputs": [
    {
     "name": "stdout",
     "output_type": "stream",
     "text": [
      "5\n",
      "4\n",
      "3\n",
      "2\n",
      "1\n"
     ]
    }
   ],
   "source": [
    "numero = int(input(\"Digite um número inteiro positivo: \"))\n",
    "\n",
    "while numero >= 1:\n",
    "    print(numero)\n",
    "    numero -= 1\n",
    "\n"
   ]
  },
  {
   "cell_type": "markdown",
   "metadata": {},
   "source": [
    "9. Dado os conjuntos:\n",
    "\n",
    "A = {1, 2, 3, 4, 5}\n",
    "B = {4, 5, 6, 7, 8}\n",
    "\n",
    "Exiba a união e a interseção entre os conjuntos A e B."
   ]
  },
  {
   "cell_type": "code",
   "execution_count": 12,
   "metadata": {},
   "outputs": [
    {
     "name": "stdout",
     "output_type": "stream",
     "text": [
      "União: {1, 2, 3, 4, 5, 6, 7, 8}\n",
      "Interseção: {4, 5}\n"
     ]
    }
   ],
   "source": [
    "A = {1, 2, 3, 4, 5}\n",
    "B = {4, 5, 6, 7, 8}\n",
    "\n",
    "uniao = A.union(B)\n",
    "intersecao = A.intersection(B)\n",
    "\n",
    "print(\"União:\", uniao)\n",
    "print(\"Interseção:\", intersecao)\n"
   ]
  },
  {
   "cell_type": "markdown",
   "metadata": {},
   "source": [
    "10. Dado o dicionário:\n",
    "\n",
    "pessoas = {\"Ana\": 25, \"Bruno\": 30, \"Carlos\": 22}\n",
    "\n",
    "Utilize um laço for para exibir cada nome e idade no formato:\n",
    "Nome: Ana - Idade: 25"
   ]
  },
  {
   "cell_type": "code",
   "execution_count": 13,
   "metadata": {},
   "outputs": [
    {
     "name": "stdout",
     "output_type": "stream",
     "text": [
      "Nome: Ana - Idade: 25\n",
      "Nome: Bruno - Idade: 30\n",
      "Nome: Carlos - Idade: 22\n"
     ]
    }
   ],
   "source": [
    "pessoas = {\"Ana\": 25, \"Bruno\": 30, \"Carlos\": 22}\n",
    "\n",
    "for nome, idade in pessoas.items():\n",
    "    print(f\"Nome: {nome} - Idade: {idade}\")\n"
   ]
  },
  {
   "cell_type": "markdown",
   "metadata": {},
   "source": [
    "DESAFIO EXTRA\n",
    "\n",
    "Uma loja de eletrônicos e móveis deseja desenvolver um sistema para gerenciar seu estoque\n",
    "e acompanhar as vendas de seus produtos. Para isso, o sistema deve permitir as seguintes\n",
    "funcionalidades:\n",
    "\n",
    "1. Visualizar o estoque: Exibir a quantidade disponível de cada produto no sistema.\n",
    "2. Realizar vendas: Permitir que um cliente compre um produto informando seu ID e a\n",
    "quantidade desejada. O estoque deve ser atualizado após cada venda.\n",
    "3. Consultar o histórico de vendas: Mostrar o total de vendas de um determinado produto\n",
    "nos últimos 5 dias.\n",
    "4. Navegar por um menu interativo: O sistema deve apresentar um menu onde o usuário\n",
    "pode escolher entre visualizar o estoque, comprar um produto, consultar as vendas ou sair do\n",
    "sistema.\n",
    "\n",
    "Estrutura Recomendada\n",
    "\n",
    "Para organizar os dados do sistema, siga estas diretrizes:\n",
    "\n",
    " Produtos: Utilize uma tupla para armazenar os produtos, onde cada item contém um ID,\n",
    "nome e categoria.\n",
    " Preços: Use uma lista para armazenar os preços de cada produto na mesma ordem da tupla\n",
    "de produtos.\n",
    " Estoque: Utilize um dicionário, onde as chaves são os IDs dos produtos e os valores\n",
    "representam a quantidade disponível em estoque.\n",
    " Categorias: Armazene todas as categorias únicas dos produtos em um set (conjunto).\n",
    " Histórico de vendas: Utilize uma matriz (lista de listas) para registrar as vendas diárias\n",
    "dos produtos nos últimos 5 dias.\n",
    "\n",
    "Implementação:\n",
    "\n",
    "Utilize funções para cada operação principal:\n",
    "\n",
    " Uma função para exibir o estoque.\n",
    " Uma função para realizar vendas, onde o usuário informa o ID do produto e a\n",
    "quantidade desejada.\n",
    " Uma função para consultar o total de vendas de um produto específico.\n",
    "Crie um menu interativo utilizando um loop while, permitindo ao usuário escolher qual\n",
    "funcionalidade deseja executar.\n",
    "O programa deve validar a entrada do usuário, garantindo que os IDs informados existam e\n",
    "que o estoque seja suficiente para cada compra."
   ]
  },
  {
   "cell_type": "code",
   "execution_count": null,
   "metadata": {},
   "outputs": [],
   "source": []
  }
 ],
 "metadata": {
  "kernelspec": {
   "display_name": "base",
   "language": "python",
   "name": "python3"
  },
  "language_info": {
   "codemirror_mode": {
    "name": "ipython",
    "version": 3
   },
   "file_extension": ".py",
   "mimetype": "text/x-python",
   "name": "python",
   "nbconvert_exporter": "python",
   "pygments_lexer": "ipython3",
   "version": "3.12.7"
  }
 },
 "nbformat": 4,
 "nbformat_minor": 2
}
