{
  "nbformat": 4,
  "nbformat_minor": 0,
  "metadata": {
    "colab": {
      "provenance": [],
      "authorship_tag": "ABX9TyN7euLEVfOgVxsbTkerIaSk",
      "include_colab_link": true
    },
    "kernelspec": {
      "name": "python3",
      "display_name": "Python 3"
    },
    "language_info": {
      "name": "python"
    }
  },
  "cells": [
    {
      "cell_type": "markdown",
      "metadata": {
        "id": "view-in-github",
        "colab_type": "text"
      },
      "source": [
        "<a href=\"https://colab.research.google.com/github/devRey/UniversityProjects/blob/main/estruturaDeDadosOpera%C3%A7%C3%B5esB%C3%A1sicas.ipynb\" target=\"_parent\"><img src=\"https://colab.research.google.com/assets/colab-badge.svg\" alt=\"Open In Colab\"/></a>"
      ]
    },
    {
      "cell_type": "markdown",
      "source": [
        "# **Operações Matemáticas**\n"
      ],
      "metadata": {
        "id": "1ERC9b3-Cg0A"
      }
    },
    {
      "cell_type": "code",
      "execution_count": null,
      "metadata": {
        "colab": {
          "base_uri": "https://localhost:8080/"
        },
        "id": "r2LE6HRhCIvN",
        "outputId": "0c4d81cf-97db-4af0-cf14-e974857043f5"
      },
      "outputs": [
        {
          "output_type": "stream",
          "name": "stdout",
          "text": [
            "5 3\n"
          ]
        }
      ],
      "source": [
        "a = 5\n",
        "b = 3\n",
        "print(a, b)"
      ]
    },
    {
      "cell_type": "markdown",
      "source": [
        "### *Soma*"
      ],
      "metadata": {
        "id": "JGuHh8ebDDIq"
      }
    },
    {
      "cell_type": "code",
      "source": [
        "a + b"
      ],
      "metadata": {
        "colab": {
          "base_uri": "https://localhost:8080/"
        },
        "id": "jSQ8AypgC-l0",
        "outputId": "ea55ea37-5fc6-4fcb-98e8-991eebdfe5aa"
      },
      "execution_count": null,
      "outputs": [
        {
          "output_type": "execute_result",
          "data": {
            "text/plain": [
              "12"
            ]
          },
          "metadata": {},
          "execution_count": 5
        }
      ]
    },
    {
      "cell_type": "code",
      "source": [
        "print('A soma é: ', a + b)"
      ],
      "metadata": {
        "colab": {
          "base_uri": "https://localhost:8080/"
        },
        "id": "SwuF3YO1DLEk",
        "outputId": "4c1dedfe-80b3-437b-906e-91c6ad85990d"
      },
      "execution_count": null,
      "outputs": [
        {
          "output_type": "stream",
          "name": "stdout",
          "text": [
            "A soma é:  12\n"
          ]
        }
      ]
    },
    {
      "cell_type": "markdown",
      "source": [
        "### *Subtração*"
      ],
      "metadata": {
        "id": "M5aVP_00D5tJ"
      }
    },
    {
      "cell_type": "code",
      "source": [
        "print('A subtração é:', a - b)"
      ],
      "metadata": {
        "colab": {
          "base_uri": "https://localhost:8080/"
        },
        "id": "uiwlmzulD7YL",
        "outputId": "5742b16c-f1fa-4c21-87d8-5f5b962cf591"
      },
      "execution_count": null,
      "outputs": [
        {
          "output_type": "stream",
          "name": "stdout",
          "text": [
            "A subtração é: 2\n"
          ]
        }
      ]
    },
    {
      "cell_type": "markdown",
      "source": [
        "### *Divisão*"
      ],
      "metadata": {
        "id": "yf1EHn0sELn-"
      }
    },
    {
      "cell_type": "code",
      "source": [
        "print('A divisão é:', a / b)"
      ],
      "metadata": {
        "id": "TdJUKGztENv6"
      },
      "execution_count": null,
      "outputs": []
    },
    {
      "cell_type": "markdown",
      "source": [
        "### *Multiplicação*"
      ],
      "metadata": {
        "id": "MWpru_TIETuA"
      }
    },
    {
      "cell_type": "code",
      "source": [
        "print('A multiplicação é:', a * b)"
      ],
      "metadata": {
        "colab": {
          "base_uri": "https://localhost:8080/"
        },
        "id": "5WRlJnJ8EVMn",
        "outputId": "2291dde3-920f-40ce-d98d-90ebdece17f0"
      },
      "execution_count": null,
      "outputs": [
        {
          "output_type": "stream",
          "name": "stdout",
          "text": [
            "A multiplicação é: 15\n"
          ]
        }
      ]
    },
    {
      "cell_type": "markdown",
      "source": [
        "### *Resto*"
      ],
      "metadata": {
        "id": "u19VYzg-ErhN"
      }
    },
    {
      "cell_type": "code",
      "source": [
        "print ('O resto da divisão é:', 10 % 3)"
      ],
      "metadata": {
        "colab": {
          "base_uri": "https://localhost:8080/"
        },
        "id": "ppzhXgzMEjA6",
        "outputId": "bc24cd98-dabc-42b5-f442-ab0b94c64344"
      },
      "execution_count": null,
      "outputs": [
        {
          "output_type": "stream",
          "name": "stdout",
          "text": [
            "O resto da divisão é: 1\n"
          ]
        }
      ]
    },
    {
      "cell_type": "markdown",
      "source": [
        "### *Elevação*"
      ],
      "metadata": {
        "id": "v59hkMweFDZ0"
      }
    },
    {
      "cell_type": "code",
      "source": [
        "print('5 elevado a 4 é:', 5**4)"
      ],
      "metadata": {
        "colab": {
          "base_uri": "https://localhost:8080/"
        },
        "id": "TPGaBVfcFHaj",
        "outputId": "2b685ab4-332e-45a5-94bb-4780937fabac"
      },
      "execution_count": null,
      "outputs": [
        {
          "output_type": "stream",
          "name": "stdout",
          "text": [
            "5 elevado a 4 é: 625\n"
          ]
        }
      ]
    },
    {
      "cell_type": "markdown",
      "source": [
        "# **Bibliotecas**"
      ],
      "metadata": {
        "id": "e2R2-vyCFpN_"
      }
    },
    {
      "cell_type": "code",
      "source": [
        "import math\n",
        "math.sqrt(81)"
      ],
      "metadata": {
        "colab": {
          "base_uri": "https://localhost:8080/"
        },
        "id": "zOktSMgrFq8H",
        "outputId": "b9075bf8-9ba0-4ad0-c841-3acd02597bc4"
      },
      "execution_count": null,
      "outputs": [
        {
          "output_type": "execute_result",
          "data": {
            "text/plain": [
              "9.0"
            ]
          },
          "metadata": {},
          "execution_count": 13
        }
      ]
    },
    {
      "cell_type": "markdown",
      "source": [
        "### *Arredondamento*"
      ],
      "metadata": {
        "id": "DsXXmZxHGq7x"
      }
    },
    {
      "cell_type": "code",
      "source": [
        "casosDoencaVass = 1430\n",
        "numeroHabitantesVass = 347135\n",
        "casosPorHabitante = casosDoencaVass / numeroHabitantesVass\n",
        "print(casosPorHabitante)"
      ],
      "metadata": {
        "colab": {
          "base_uri": "https://localhost:8080/"
        },
        "id": "-kf92Bl0GuHI",
        "outputId": "2d8d0b24-7742-40bb-8a28-d0d4dd0b90f1"
      },
      "execution_count": null,
      "outputs": [
        {
          "output_type": "stream",
          "name": "stdout",
          "text": [
            "0.004119434802022268\n"
          ]
        }
      ]
    },
    {
      "cell_type": "code",
      "source": [
        "round(casosPorHabitante, 6)"
      ],
      "metadata": {
        "colab": {
          "base_uri": "https://localhost:8080/"
        },
        "id": "aTC_g-RiHFIf",
        "outputId": "12f7a103-4d39-4641-c3cf-67ff07797df8"
      },
      "execution_count": null,
      "outputs": [
        {
          "output_type": "execute_result",
          "data": {
            "text/plain": [
              "0.004119"
            ]
          },
          "metadata": {},
          "execution_count": 16
        }
      ]
    },
    {
      "cell_type": "code",
      "source": [
        "print('O número de casos por habitantes é de:', round(casosPorHabitante, 4))"
      ],
      "metadata": {
        "colab": {
          "base_uri": "https://localhost:8080/"
        },
        "id": "DIsXX2EzHJux",
        "outputId": "cdac62e5-ec6b-41ff-b763-0d61cea352ee"
      },
      "execution_count": null,
      "outputs": [
        {
          "output_type": "stream",
          "name": "stdout",
          "text": [
            "O número de casos por habitantes é de: 0.0041\n"
          ]
        }
      ]
    },
    {
      "cell_type": "markdown",
      "source": [
        "## *Exercício 1*"
      ],
      "metadata": {
        "id": "dg0F-czMI_wV"
      }
    },
    {
      "cell_type": "code",
      "source": [
        "## Ler dois números inteiros, executar e mostrar o resultado das seguintes operações: adição, subtração, multiplicação, divisão e potenciação do primeiro elevado ao segundo número"
      ],
      "metadata": {
        "id": "dw_2HJfRJBJP"
      },
      "execution_count": null,
      "outputs": []
    },
    {
      "cell_type": "code",
      "source": [
        "num1 = 3\n",
        "num2 = 5\n",
        "print(num1, num2)"
      ],
      "metadata": {
        "colab": {
          "base_uri": "https://localhost:8080/"
        },
        "id": "VBdZx9DhJTDU",
        "outputId": "1badd35e-21c2-4041-ba9b-45eddc86d8fd"
      },
      "execution_count": null,
      "outputs": [
        {
          "output_type": "stream",
          "name": "stdout",
          "text": [
            "3 5\n"
          ]
        }
      ]
    },
    {
      "cell_type": "code",
      "source": [
        "# Adição\n",
        "\n",
        "print('A soma dos números é:', num1 + num2)\n"
      ],
      "metadata": {
        "colab": {
          "base_uri": "https://localhost:8080/"
        },
        "id": "O3WSuQAdJm7l",
        "outputId": "558f2ec1-f01d-4f30-a9f5-790b7686e6f6"
      },
      "execution_count": null,
      "outputs": [
        {
          "output_type": "stream",
          "name": "stdout",
          "text": [
            "A soma dos números é: 8\n"
          ]
        }
      ]
    },
    {
      "cell_type": "code",
      "source": [
        "# Subtração\n",
        "\n",
        "print('A subtração dos números é:', num1 - num2)"
      ],
      "metadata": {
        "colab": {
          "base_uri": "https://localhost:8080/"
        },
        "id": "ZidLCDWaKKFc",
        "outputId": "4c3ac930-ebd4-4ad5-f22f-bea6a46fa1f3"
      },
      "execution_count": null,
      "outputs": [
        {
          "output_type": "stream",
          "name": "stdout",
          "text": [
            "A subtração dos números é: -2\n"
          ]
        }
      ]
    },
    {
      "cell_type": "code",
      "source": [
        "# Multiplicação\n",
        "\n",
        "print('A multiplicação dos números é:', num1 * num2)"
      ],
      "metadata": {
        "colab": {
          "base_uri": "https://localhost:8080/"
        },
        "id": "BjIir7LiKWuI",
        "outputId": "8560ee3e-0eff-4f49-ade8-9ce3b1e043b7"
      },
      "execution_count": null,
      "outputs": [
        {
          "output_type": "stream",
          "name": "stdout",
          "text": [
            "A multiplicação dos números é: 15\n"
          ]
        }
      ]
    },
    {
      "cell_type": "code",
      "source": [
        "# Divisão\n",
        "\n",
        "print('A divisão dos números é:', num1 / num2)"
      ],
      "metadata": {
        "colab": {
          "base_uri": "https://localhost:8080/"
        },
        "id": "NBJC4lXRKfeM",
        "outputId": "3c77142b-fa1d-4af7-f599-86dddb9be730"
      },
      "execution_count": null,
      "outputs": [
        {
          "output_type": "stream",
          "name": "stdout",
          "text": [
            "A divisão dos números é: 0.6\n"
          ]
        }
      ]
    },
    {
      "cell_type": "code",
      "source": [
        "# Potenciação do primeiro elevado ao segundo\n",
        "\n",
        "print('Potenciação:', num1%100)\n",
        "print('O resultado do primeiro elevado ao segundo é:', num1**num2)"
      ],
      "metadata": {
        "colab": {
          "base_uri": "https://localhost:8080/"
        },
        "id": "aqDWjIqpKpdK",
        "outputId": "10db358b-cdf4-406e-c6fe-fa0217398eef"
      },
      "execution_count": null,
      "outputs": [
        {
          "output_type": "stream",
          "name": "stdout",
          "text": [
            "Potenciação: 3\n",
            "O resultado é: 243\n"
          ]
        }
      ]
    },
    {
      "cell_type": "code",
      "source": [
        "# Efetuar o cálculo da quantidade de litros de combustível gasto em uma viagem, utilizando um automóvel que faz 12km por litro. Para obter o cálculo, o usuário deve fornecer o tempo gasto na viagem e a velocidade média durante ela.\n",
        "# Desta forma, será possível obter a distância percorrida com a fórmula DISTÂNCIA = TEMPO * VELOCIDADE. Tendo o valor da distância, basta calcular a quantidade de litros de combustível utilizada na viagem, com a fórmula:\n",
        "# LITROS_USADOS = DISTANCIA / 12. O programa deve apresentar os valores da velocidade média, tempo gasto na viagem, a distância percorrida e a quantidade de litros utilizada na viagem."
      ],
      "metadata": {
        "id": "pT9A-qJULW6x"
      },
      "execution_count": null,
      "outputs": []
    },
    {
      "cell_type": "code",
      "source": [
        "tempoDeViagem = float(input(\"Digite o tempo percorrido: \"))\n",
        "velocidadeMedia = float(input(\"Digite a velocidade percorrida: \"))\n",
        "\n",
        "# Distância\n",
        "\n",
        "print('A distância percorrida foi de: ', tempoDeViagem * velocidadeMedia,'km')"
      ],
      "metadata": {
        "colab": {
          "base_uri": "https://localhost:8080/"
        },
        "id": "emj_52rENeqP",
        "outputId": "60bad129-0fd6-4b32-9f7c-a01284af24fe"
      },
      "execution_count": null,
      "outputs": [
        {
          "output_type": "stream",
          "name": "stdout",
          "text": [
            "Digite o tempo percorrido: 5\n",
            "Digite a velocidade percorrida: 10\n",
            "A distância percorrida foi de:  50 km\n"
          ]
        }
      ]
    },
    {
      "cell_type": "code",
      "source": [
        "distancia = tempoDeViagem * velocidadeMedia\n",
        "print(distancia)"
      ],
      "metadata": {
        "colab": {
          "base_uri": "https://localhost:8080/"
        },
        "id": "taMYpk6bPa80",
        "outputId": "9b70aa6c-b72d-4528-82d8-918daf78fbd4"
      },
      "execution_count": null,
      "outputs": [
        {
          "output_type": "stream",
          "name": "stdout",
          "text": [
            "50\n"
          ]
        }
      ]
    },
    {
      "cell_type": "code",
      "source": [
        "print('Combustível gasto durante a viagem:', round(distancia / 12))"
      ],
      "metadata": {
        "colab": {
          "base_uri": "https://localhost:8080/"
        },
        "id": "13DYuURkOmKg",
        "outputId": "740e1064-52ef-4fe0-e104-b4eafc4dd2c1"
      },
      "execution_count": null,
      "outputs": [
        {
          "output_type": "stream",
          "name": "stdout",
          "text": [
            "Combustível gasto durante a viagem: 4\n"
          ]
        }
      ]
    },
    {
      "cell_type": "markdown",
      "source": [
        "## *Operadores lógicos*"
      ],
      "metadata": {
        "id": "dZhZn0JOSbmN"
      }
    },
    {
      "cell_type": "code",
      "source": [
        "a = True\n",
        "b = False"
      ],
      "metadata": {
        "id": "sSBVbR4LSjsN"
      },
      "execution_count": null,
      "outputs": []
    },
    {
      "cell_type": "code",
      "source": [
        "print(a,b)"
      ],
      "metadata": {
        "colab": {
          "base_uri": "https://localhost:8080/"
        },
        "id": "M--wWH9_TCRY",
        "outputId": "23eafe38-d1ff-4328-8154-89c18926f2d1"
      },
      "execution_count": null,
      "outputs": [
        {
          "output_type": "stream",
          "name": "stdout",
          "text": [
            "True False\n"
          ]
        }
      ]
    },
    {
      "cell_type": "code",
      "source": [
        "a or b"
      ],
      "metadata": {
        "colab": {
          "base_uri": "https://localhost:8080/"
        },
        "id": "GHh6z4rCTq_T",
        "outputId": "a14078f5-8325-4307-8087-59ec4622f1cf"
      },
      "execution_count": null,
      "outputs": [
        {
          "output_type": "execute_result",
          "data": {
            "text/plain": [
              "True"
            ]
          },
          "metadata": {},
          "execution_count": 50
        }
      ]
    },
    {
      "cell_type": "code",
      "source": [
        "a and b"
      ],
      "metadata": {
        "colab": {
          "base_uri": "https://localhost:8080/"
        },
        "id": "ci-0j6RmTtRo",
        "outputId": "7b0d9d5f-bb56-43f3-cd16-59a69679162c"
      },
      "execution_count": null,
      "outputs": [
        {
          "output_type": "execute_result",
          "data": {
            "text/plain": [
              "False"
            ]
          },
          "metadata": {},
          "execution_count": 51
        }
      ]
    },
    {
      "cell_type": "code",
      "source": [
        "a & b"
      ],
      "metadata": {
        "colab": {
          "base_uri": "https://localhost:8080/"
        },
        "id": "gBPWOL4NVTF5",
        "outputId": "ebb20872-78bc-43c3-ba07-61ca31e5f630"
      },
      "execution_count": null,
      "outputs": [
        {
          "output_type": "execute_result",
          "data": {
            "text/plain": [
              "False"
            ]
          },
          "metadata": {},
          "execution_count": 55
        }
      ]
    },
    {
      "cell_type": "code",
      "source": [
        "c = a and b\n",
        "print(\"'A' e 'B' são iguais é\", c)"
      ],
      "metadata": {
        "colab": {
          "base_uri": "https://localhost:8080/"
        },
        "id": "m4kea74gU9xj",
        "outputId": "9c2d3d91-9ee7-4d83-b12d-142664fca954"
      },
      "execution_count": null,
      "outputs": [
        {
          "output_type": "stream",
          "name": "stdout",
          "text": [
            "'A' e 'B' são iguais é False\n"
          ]
        }
      ]
    },
    {
      "cell_type": "code",
      "source": [
        "a or b"
      ],
      "metadata": {
        "colab": {
          "base_uri": "https://localhost:8080/"
        },
        "id": "akcrB0SxVhx7",
        "outputId": "6e94e635-1b47-4190-952a-d1251f742d7f"
      },
      "execution_count": null,
      "outputs": [
        {
          "output_type": "execute_result",
          "data": {
            "text/plain": [
              "True"
            ]
          },
          "metadata": {},
          "execution_count": 59
        }
      ]
    },
    {
      "cell_type": "code",
      "source": [
        "a | b"
      ],
      "metadata": {
        "colab": {
          "base_uri": "https://localhost:8080/"
        },
        "id": "qevKGO5oVkfX",
        "outputId": "b0d44e5b-b792-43c0-a018-953902b35cab"
      },
      "execution_count": null,
      "outputs": [
        {
          "output_type": "execute_result",
          "data": {
            "text/plain": [
              "True"
            ]
          },
          "metadata": {},
          "execution_count": 60
        }
      ]
    },
    {
      "cell_type": "code",
      "source": [
        "d = a or b\n",
        "print(\"'A' ou 'B' é igual a\", d)"
      ],
      "metadata": {
        "colab": {
          "base_uri": "https://localhost:8080/"
        },
        "id": "lvMF6vDDV-we",
        "outputId": "c4012680-0026-4f7d-9718-439fa7751fec"
      },
      "execution_count": null,
      "outputs": [
        {
          "output_type": "stream",
          "name": "stdout",
          "text": [
            "'A' ou 'B' é igual a True\n"
          ]
        }
      ]
    },
    {
      "cell_type": "code",
      "source": [
        "not a"
      ],
      "metadata": {
        "colab": {
          "base_uri": "https://localhost:8080/"
        },
        "id": "3of7wbExWKVA",
        "outputId": "f7770ae3-0dd9-456e-b992-398f5734f4cf"
      },
      "execution_count": null,
      "outputs": [
        {
          "output_type": "execute_result",
          "data": {
            "text/plain": [
              "False"
            ]
          },
          "metadata": {},
          "execution_count": 62
        }
      ]
    },
    {
      "cell_type": "code",
      "source": [
        "not b"
      ],
      "metadata": {
        "colab": {
          "base_uri": "https://localhost:8080/"
        },
        "id": "mGAVPFyiWO3g",
        "outputId": "1009cd02-234a-461f-c8f3-08ed9e4fe2e8"
      },
      "execution_count": null,
      "outputs": [
        {
          "output_type": "execute_result",
          "data": {
            "text/plain": [
              "True"
            ]
          },
          "metadata": {},
          "execution_count": 63
        }
      ]
    },
    {
      "cell_type": "markdown",
      "source": [
        "## *Operadores relacionais*"
      ],
      "metadata": {
        "id": "f9nbebuLaHoI"
      }
    },
    {
      "cell_type": "code",
      "source": [
        "5 > 3"
      ],
      "metadata": {
        "id": "gi8lI7XjXyXk"
      },
      "execution_count": null,
      "outputs": []
    },
    {
      "cell_type": "code",
      "source": [
        "5 < 3"
      ],
      "metadata": {
        "id": "QeRZ3BfrXz9E"
      },
      "execution_count": null,
      "outputs": []
    },
    {
      "cell_type": "code",
      "source": [
        "5 >= 5"
      ],
      "metadata": {
        "colab": {
          "base_uri": "https://localhost:8080/"
        },
        "id": "CIcYOJTPX1X-",
        "outputId": "f3b23907-b667-4942-81c1-d9855c8f02ae"
      },
      "execution_count": null,
      "outputs": [
        {
          "output_type": "execute_result",
          "data": {
            "text/plain": [
              "True"
            ]
          },
          "metadata": {},
          "execution_count": 64
        }
      ]
    },
    {
      "cell_type": "code",
      "source": [
        "5 <= 3"
      ],
      "metadata": {
        "colab": {
          "base_uri": "https://localhost:8080/"
        },
        "id": "JZEfuYSIX8wm",
        "outputId": "7f9e299c-4826-4ad0-8dd2-c61473698590"
      },
      "execution_count": null,
      "outputs": [
        {
          "output_type": "execute_result",
          "data": {
            "text/plain": [
              "False"
            ]
          },
          "metadata": {},
          "execution_count": 65
        }
      ]
    },
    {
      "cell_type": "code",
      "source": [
        "5 == 3"
      ],
      "metadata": {
        "colab": {
          "base_uri": "https://localhost:8080/"
        },
        "id": "zDN5jiOnYEQl",
        "outputId": "3167bb99-e301-405c-fc54-22cb0904bf34"
      },
      "execution_count": null,
      "outputs": [
        {
          "output_type": "execute_result",
          "data": {
            "text/plain": [
              "False"
            ]
          },
          "metadata": {},
          "execution_count": 67
        }
      ]
    },
    {
      "cell_type": "code",
      "source": [
        "5 != 3"
      ],
      "metadata": {
        "colab": {
          "base_uri": "https://localhost:8080/"
        },
        "id": "vjWdOzcJYIkM",
        "outputId": "0dbfe777-644d-46ca-a8d8-22085d19fd7c"
      },
      "execution_count": null,
      "outputs": [
        {
          "output_type": "execute_result",
          "data": {
            "text/plain": [
              "True"
            ]
          },
          "metadata": {},
          "execution_count": 66
        }
      ]
    },
    {
      "cell_type": "markdown",
      "source": [
        "## *Operadores condicionais*"
      ],
      "metadata": {
        "id": "CmpyhQRDahdQ"
      }
    },
    {
      "cell_type": "code",
      "source": [
        "5 > 3"
      ],
      "metadata": {
        "id": "0kv_p7_zaeAd"
      },
      "execution_count": null,
      "outputs": []
    },
    {
      "cell_type": "code",
      "source": [
        "if 5 > 3:\n",
        "  print(\"5 é maior do que 3\")"
      ],
      "metadata": {
        "colab": {
          "base_uri": "https://localhost:8080/"
        },
        "id": "3DnR_Mz4amo6",
        "outputId": "5cc0cb1a-a387-4bbb-c3f1-cf5a0e3eb4a7"
      },
      "execution_count": null,
      "outputs": [
        {
          "output_type": "stream",
          "name": "stdout",
          "text": [
            "5 é maior do que 3\n"
          ]
        }
      ]
    },
    {
      "cell_type": "code",
      "source": [
        "if 5 < 4:\n",
        "  print(\"5 é maior do que 4\")\n",
        "else:\n",
        "  print(\"5 não é maior do que 4\")"
      ],
      "metadata": {
        "colab": {
          "base_uri": "https://localhost:8080/"
        },
        "id": "4NsWc8HsavFP",
        "outputId": "35179eeb-387f-49d0-da37-7fcffb75d71a"
      },
      "execution_count": null,
      "outputs": [
        {
          "output_type": "stream",
          "name": "stdout",
          "text": [
            "5 não é maior do que 4\n"
          ]
        }
      ]
    },
    {
      "cell_type": "code",
      "source": [
        "n = 9\n",
        "\n",
        "if n == 4:\n",
        "  print(\"n é igual a 4\")\n",
        "else:\n",
        "  if n == 3:\n",
        "   print(\"n não é igual a 3\")\n",
        "  else:\n",
        "    print(\"n não é igual a 4, nem 3\")\n"
      ],
      "metadata": {
        "id": "wnaMpV_BbjV2"
      },
      "execution_count": null,
      "outputs": []
    },
    {
      "cell_type": "markdown",
      "source": [
        "## *Exercício 3*"
      ],
      "metadata": {
        "id": "aoY40vqJcwy0"
      }
    },
    {
      "cell_type": "code",
      "source": [
        "# Leia a idade do usuário e classifique-o em:\n",
        "# Criança - 0 a 12 anos\n",
        "# Adolescente - 13 a 17 anos\n",
        "# Adulto - acima de 18 anos\n",
        "# Se o usuário digitar um número negativo, mostrar a mensagem que a idade é inválida"
      ],
      "metadata": {
        "id": "y_V7s9qQc1eE"
      },
      "execution_count": null,
      "outputs": []
    },
    {
      "cell_type": "code",
      "source": [
        "idadeUsuario = int(input('Digite a idade: '))\n",
        "\n",
        "if idadeUsuario >= 0 and idadeUsuario <=12:\n",
        "    print(\"O usuário é uma criança\")\n",
        "elif idadeUsuario > 12 and idadeUsuario < 18:\n",
        "    print(\"O usuário é um adolescente\")\n",
        "elif idadeUsuario >= 18:\n",
        "    print (\"O usuário é um adulto\")\n",
        "else:\n",
        "  print (\"Idade inválida\")\n"
      ],
      "metadata": {
        "colab": {
          "base_uri": "https://localhost:8080/"
        },
        "id": "-CkM_SildJo5",
        "outputId": "49046feb-9743-4a4a-e597-9795eda62ffc"
      },
      "execution_count": 1,
      "outputs": [
        {
          "output_type": "stream",
          "name": "stdout",
          "text": [
            "Digite a idade: 17\n",
            "O usuário é um adolescente\n"
          ]
        }
      ]
    }
  ]
}